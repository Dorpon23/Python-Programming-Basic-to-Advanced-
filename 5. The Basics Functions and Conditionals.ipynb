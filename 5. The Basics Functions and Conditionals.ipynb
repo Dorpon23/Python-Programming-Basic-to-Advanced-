{
 "cells": [
  {
   "cell_type": "code",
   "execution_count": 1,
   "metadata": {},
   "outputs": [
    {
     "name": "stdout",
     "output_type": "stream",
     "text": [
      "6.0\n"
     ]
    }
   ],
   "source": [
    "def mean(mylist):\n",
    "    the_mean = sum(mylist)/len(mylist)\n",
    "    return the_mean\n",
    "\n",
    "print(mean([6, 6, 6]))"
   ]
  },
  {
   "cell_type": "markdown",
   "metadata": {},
   "source": [
    "If you find the what is the function and builtinfunction or method we use\n",
    "print(type(mean), type(sum))"
   ]
  },
  {
   "cell_type": "code",
   "execution_count": 7,
   "metadata": {},
   "outputs": [
    {
     "name": "stdout",
     "output_type": "stream",
     "text": [
      "Function Started\n",
      "4.0\n"
     ]
    }
   ],
   "source": [
    "def mean(mylist):\n",
    "    print(\"Function Started\")\n",
    "    the_mean = sum(mylist)/len(mylist)\n",
    "    return the_mean\n",
    "\n",
    "mymean = mean([6, 3, 3])\n",
    "print(mymean)"
   ]
  },
  {
   "cell_type": "code",
   "execution_count": 32,
   "metadata": {},
   "outputs": [
    {
     "name": "stdout",
     "output_type": "stream",
     "text": [
      "8.466666666666667\n"
     ]
    }
   ],
   "source": [
    "def mean(value):\n",
    "    if type(value) == list: \n",
    "        the_mean = sum(value) / len(value)\n",
    "        \n",
    "    return the_mean\n",
    "\n",
    "Students_grades = [9.1, 8.8, 7.5]\n",
    "print(mean(Students_grades))\n"
   ]
  },
  {
   "cell_type": "code",
   "execution_count": 49,
   "metadata": {},
   "outputs": [
    {
     "name": "stdout",
     "output_type": "stream",
     "text": [
      "8.466666666666667\n"
     ]
    }
   ],
   "source": [
    "def mean(value):\n",
    "    if type(value) == dict:\n",
    "        the_mean = sum(value.values()) / len(value)\n",
    "    else:\n",
    "        the_mean = sum(value) / len(value)\n",
    "        \n",
    "    return the_mean\n",
    "\n",
    "Students_grades = {\"Marry\": 9.1, \"Sim\": 8.8, \"John\":7.5, \"John\":7.5}\n",
    "print(mean(Students_grades))\n"
   ]
  },
  {
   "cell_type": "code",
   "execution_count": 60,
   "metadata": {},
   "outputs": [
    {
     "ename": "TypeError",
     "evalue": "'tuple' object is not callable",
     "output_type": "error",
     "traceback": [
      "\u001b[1;31m---------------------------------------------------------------------------\u001b[0m",
      "\u001b[1;31mTypeError\u001b[0m                                 Traceback (most recent call last)",
      "\u001b[1;32m<ipython-input-60-ca4a60c7a3ba>\u001b[0m in \u001b[0;36m<module>\u001b[1;34m\u001b[0m\n\u001b[0;32m      8\u001b[0m \u001b[1;33m\u001b[0m\u001b[0m\n\u001b[0;32m      9\u001b[0m \u001b[0mstudents_grades2\u001b[0m \u001b[1;33m=\u001b[0m \u001b[1;33m(\u001b[0m \u001b[1;36m19\u001b[0m\u001b[1;33m,\u001b[0m\u001b[1;36m8\u001b[0m\u001b[1;33m,\u001b[0m\u001b[1;36m7\u001b[0m \u001b[1;33m)\u001b[0m\u001b[1;33m\u001b[0m\u001b[1;33m\u001b[0m\u001b[0m\n\u001b[1;32m---> 10\u001b[1;33m \u001b[0mprint\u001b[0m\u001b[1;33m(\u001b[0m\u001b[0mmean\u001b[0m\u001b[1;33m(\u001b[0m\u001b[0mstudents_grades2\u001b[0m\u001b[1;33m(\u001b[0m\u001b[1;33m)\u001b[0m\u001b[1;33m)\u001b[0m\u001b[1;33m)\u001b[0m\u001b[1;33m\u001b[0m\u001b[1;33m\u001b[0m\u001b[0m\n\u001b[0m",
      "\u001b[1;31mTypeError\u001b[0m: 'tuple' object is not callable"
     ]
    }
   ],
   "source": [
    "def mean(value):\n",
    "    if type(value) == tuple:\n",
    "        the_mean = sum(value) / len(value)\n",
    "    else:\n",
    "        the_mean = sum(value.values()) / len(value)\n",
    "        \n",
    "    return the_mean\n",
    "\n",
    "students_grades2 = ( 19,8,7 )\n",
    "print(mean(students_grades2()))"
   ]
  },
  {
   "cell_type": "markdown",
   "metadata": {},
   "source": [
    "'tuple' object is not callable"
   ]
  },
  {
   "cell_type": "code",
   "execution_count": 64,
   "metadata": {},
   "outputs": [
    {
     "name": "stdout",
     "output_type": "stream",
     "text": [
      "8.466666666666667\n"
     ]
    }
   ],
   "source": [
    "def mean(value):\n",
    "    if isinstance(value, dict):\n",
    "        the_mean = sum(value.values()) / len(value)\n",
    "    else:\n",
    "        the_mean = sum(value) / len(value)\n",
    "        \n",
    "    return the_mean\n",
    "\n",
    "Students_grades = {\"Marry\": 9.1, \"Sim\": 8.8, \"John\":7.5, \"John\":7.5}\n",
    "print(mean(Students_grades))\n"
   ]
  },
  {
   "cell_type": "code",
   "execution_count": 65,
   "metadata": {},
   "outputs": [
    {
     "name": "stdout",
     "output_type": "stream",
     "text": [
      "8.466666666666667\n"
     ]
    }
   ],
   "source": [
    "def mean(value):\n",
    "    if isinstance(value, list): \n",
    "        the_mean = sum(value) / len(value)\n",
    "        \n",
    "    return the_mean\n",
    "\n",
    "Students_grades = [9.1, 8.8, 7.5]\n",
    "print(mean(Students_grades))\n"
   ]
  },
  {
   "cell_type": "code",
   "execution_count": 71,
   "metadata": {},
   "outputs": [
    {
     "name": "stdout",
     "output_type": "stream",
     "text": [
      "X is equal Y\n"
     ]
    }
   ],
   "source": [
    "x = 3\n",
    "y = 3\n",
    "if(x>y):\n",
    "    \n",
    "    print(\"X is greater than Y\")\n",
    "    \n",
    "elif(x == y):\n",
    "    \n",
    "    print(\"X is equal Y\")\n",
    "else:\n",
    "    \n",
    "    print (\"X is less than Y\")\n",
    "    "
   ]
  },
  {
   "cell_type": "code",
   "execution_count": null,
   "metadata": {},
   "outputs": [],
   "source": []
  }
 ],
 "metadata": {
  "kernelspec": {
   "display_name": "Python 3",
   "language": "python",
   "name": "python3"
  },
  "language_info": {
   "codemirror_mode": {
    "name": "ipython",
    "version": 3
   },
   "file_extension": ".py",
   "mimetype": "text/x-python",
   "name": "python",
   "nbconvert_exporter": "python",
   "pygments_lexer": "ipython3",
   "version": "3.8.3"
  }
 },
 "nbformat": 4,
 "nbformat_minor": 4
}
