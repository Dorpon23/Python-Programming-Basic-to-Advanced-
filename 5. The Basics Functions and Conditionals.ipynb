{
 "cells": [
  {
   "cell_type": "code",
   "execution_count": 4,
   "metadata": {},
   "outputs": [
    {
     "name": "stdout",
     "output_type": "stream",
     "text": [
      "<class 'function'> <class 'builtin_function_or_method'>\n"
     ]
    }
   ],
   "source": [
    "def mean(mylist):\n",
    "    the_mean = sum(mylist)/len(mylist)\n",
    "    return the_mean\n",
    "\n",
    "print(mean([6, 6, 6]))"
   ]
  },
  {
   "cell_type": "markdown",
   "metadata": {},
   "source": [
    "If you find the what is the function and builtinfunction or method we use\n",
    "print(type(mean), type(sum))"
   ]
  },
  {
   "cell_type": "code",
   "execution_count": 7,
   "metadata": {},
   "outputs": [
    {
     "name": "stdout",
     "output_type": "stream",
     "text": [
      "Function Started\n",
      "4.0\n"
     ]
    }
   ],
   "source": [
    "def mean(mylist):\n",
    "    print(\"Function Started\")\n",
    "    the_mean = sum(mylist)/len(mylist)\n",
    "    return the_mean\n",
    "\n",
    "mymean = mean([6, 3, 3])\n",
    "print(mymean)"
   ]
  },
  {
   "cell_type": "code",
   "execution_count": 13,
   "metadata": {},
   "outputs": [
    {
     "ename": "SyntaxError",
     "evalue": "invalid syntax (<ipython-input-13-0f42c4c1038c>, line 2)",
     "output_type": "error",
     "traceback": [
      "\u001b[1;36m  File \u001b[1;32m\"<ipython-input-13-0f42c4c1038c>\"\u001b[1;36m, line \u001b[1;32m2\u001b[0m\n\u001b[1;33m    if(Students_grades.values() == dict:)\u001b[0m\n\u001b[1;37m                                       ^\u001b[0m\n\u001b[1;31mSyntaxError\u001b[0m\u001b[1;31m:\u001b[0m invalid syntax\n"
     ]
    }
   ],
   "source": [
    "def mean(Students_grades):\n",
    "    if(Students_grades.values() == dict:)\n",
    "    the_mean = sum(mylist)/len(mylist)\n",
    "    return the_mean\n",
    "\n",
    "Students_grades = {\"Marry\": 9.1, \"Sim\": 8.8, \"John\":7.5, \"John\":7.5}\n",
    "print(mean(Students_grades))"
   ]
  },
  {
   "cell_type": "code",
   "execution_count": null,
   "metadata": {},
   "outputs": [],
   "source": []
  }
 ],
 "metadata": {
  "kernelspec": {
   "display_name": "Python 3",
   "language": "python",
   "name": "python3"
  },
  "language_info": {
   "codemirror_mode": {
    "name": "ipython",
    "version": 3
   },
   "file_extension": ".py",
   "mimetype": "text/x-python",
   "name": "python",
   "nbconvert_exporter": "python",
   "pygments_lexer": "ipython3",
   "version": "3.8.3"
  }
 },
 "nbformat": 4,
 "nbformat_minor": 4
}
