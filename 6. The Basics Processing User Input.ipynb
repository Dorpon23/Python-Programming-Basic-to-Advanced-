{
 "cells": [
  {
   "cell_type": "code",
   "execution_count": 5,
   "metadata": {},
   "outputs": [
    {
     "name": "stdout",
     "output_type": "stream",
     "text": [
      "Enter some input:4\n",
      "<class 'float'> cold\n"
     ]
    }
   ],
   "source": [
    "def weather_condition(temprature):\n",
    "    if temprature > 7:\n",
    "        return \"warm\"\n",
    "    else:\n",
    "        return \"cold\"\n",
    " \n",
    "\n",
    "user_input = float(input(\"Enter some input:\"))\n",
    "print(type(user_input), weather_condition(user_input))"
   ]
  },
  {
   "cell_type": "code",
   "execution_count": 14,
   "metadata": {},
   "outputs": [
    {
     "name": "stdout",
     "output_type": "stream",
     "text": [
      "Enter some input:8\n",
      "<class 'float'> 0.64\n"
     ]
    }
   ],
   "source": [
    "def weather_condition(temprature):\n",
    "    if temprature > 7:\n",
    "        number = (temprature *8) / 100\n",
    "    else:\n",
    "        number = (temprature *4) / 100\n",
    "        \n",
    "    return number\n",
    " \n",
    "\n",
    "user_input = float(input(\"Enter some input:\"))\n",
    "print(type(user_input), weather_condition(user_input))"
   ]
  },
  {
   "cell_type": "code",
   "execution_count": 19,
   "metadata": {},
   "outputs": [
    {
     "name": "stdout",
     "output_type": "stream",
     "text": [
      "Enter Your Name: Dorpon\n",
      "Hello Dorpon\n"
     ]
    }
   ],
   "source": [
    "user_input = input(\"Enter Your Name: \")\n",
    "message = \"Hello %s\" %user_input\n",
    "message = f\"Hello {user_input}\"\n",
    "print(message)"
   ]
  },
  {
   "cell_type": "code",
   "execution_count": 20,
   "metadata": {},
   "outputs": [
    {
     "name": "stdout",
     "output_type": "stream",
     "text": [
      "Enter Your NameDorpon\n",
      "Enter Your Surname: dorpon007\n",
      "Hello Dorpon dorpon007\n"
     ]
    }
   ],
   "source": [
    "name = input(\"Enter Your Name\")\n",
    "surname = input(\"Enter Your Surname: \")\n",
    "message = \"Hello %s %s\" % (name, surname)\n",
    "#message = f\"Hello {user_input}\"\n",
    "print(message)"
   ]
  },
  {
   "cell_type": "code",
   "execution_count": 23,
   "metadata": {},
   "outputs": [
    {
     "name": "stdout",
     "output_type": "stream",
     "text": [
      "Enter Your NameFida Hasan \n",
      "Enter Your Surname: Dorpon\n",
      "Hello Fida Hasan  Dorpon What's up today\n"
     ]
    }
   ],
   "source": [
    "name = input(\"Enter Your Name\")\n",
    "surname = input(\"Enter Your Surname: \")\n",
    "when = \"today\"\n",
    "message = f\"Hello {name} {surname} What's up {when}\"\n",
    "print(message)"
   ]
  },
  {
   "cell_type": "code",
   "execution_count": null,
   "metadata": {},
   "outputs": [],
   "source": []
  },
  {
   "cell_type": "code",
   "execution_count": null,
   "metadata": {},
   "outputs": [],
   "source": []
  }
 ],
 "metadata": {
  "kernelspec": {
   "display_name": "Python 3",
   "language": "python",
   "name": "python3"
  },
  "language_info": {
   "codemirror_mode": {
    "name": "ipython",
    "version": 3
   },
   "file_extension": ".py",
   "mimetype": "text/x-python",
   "name": "python",
   "nbconvert_exporter": "python",
   "pygments_lexer": "ipython3",
   "version": "3.8.3"
  }
 },
 "nbformat": 4,
 "nbformat_minor": 4
}
