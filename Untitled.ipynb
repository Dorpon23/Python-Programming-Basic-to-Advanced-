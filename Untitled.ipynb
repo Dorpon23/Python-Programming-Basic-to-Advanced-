{
 "cells": [
  {
   "cell_type": "code",
   "execution_count": 9,
   "metadata": {},
   "outputs": [
    {
     "data": {
      "text/plain": [
       "0"
      ]
     },
     "execution_count": 9,
     "metadata": {},
     "output_type": "execute_result"
    }
   ],
   "source": [
    "import os\n",
    "\n",
    "## Number of days you want to make commits\n",
    "for i in range(1,365*1 + 1):\n",
    "    d = str(i) + ' day ago'\n",
    "    ## Open a text file and modify it\n",
    "    with open('bot.txt', 'a') as file:\n",
    "        file.write(d)\n",
    "    ## Add bot.txt to staging area\n",
    "    os.system('git add bot.txt')\n",
    "    ## Commit it\n",
    "    os.system('git commit --date=\"' + d + '\" -m \"first commit\"')\n",
    "\n",
    "## push the commit to github\n",
    "os.system('git push -u origin master')"
   ]
  },
  {
   "cell_type": "code",
   "execution_count": null,
   "metadata": {},
   "outputs": [],
   "source": []
  }
 ],
 "metadata": {
  "kernelspec": {
   "display_name": "Python 3",
   "language": "python",
   "name": "python3"
  },
  "language_info": {
   "codemirror_mode": {
    "name": "ipython",
    "version": 3
   },
   "file_extension": ".py",
   "mimetype": "text/x-python",
   "name": "python",
   "nbconvert_exporter": "python",
   "pygments_lexer": "ipython3",
   "version": "3.8.3"
  }
 },
 "nbformat": 4,
 "nbformat_minor": 4
}
