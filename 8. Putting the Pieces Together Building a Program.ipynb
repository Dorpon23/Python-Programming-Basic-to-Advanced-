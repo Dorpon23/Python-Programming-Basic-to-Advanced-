{
 "cells": [
  {
   "cell_type": "code",
   "execution_count": 10,
   "metadata": {},
   "outputs": [
    {
     "name": "stdout",
     "output_type": "stream",
     "text": [
      "say something: \\end\n"
     ]
    }
   ],
   "source": [
    "while True:\n",
    "    username = input(\"say something: \")\n",
    "    if username == \"\\end\":\n",
    "        break\n",
    "    else:\n",
    "        print(username)"
   ]
  },
  {
   "cell_type": "code",
   "execution_count": null,
   "metadata": {},
   "outputs": [],
   "source": [
    "i=0 \n",
    "type(i)"
   ]
  },
  {
   "cell_type": "code",
   "execution_count": 1,
   "metadata": {},
   "outputs": [],
   "source": [
    "def message_passing(statement):\n",
    "    while True:\n",
    "        if statement == \"\\end\":\n",
    "            break  \n",
    "        else:\n",
    "            return statement\n",
    "    while True:\n",
    "        user_input = input(\"Say Something:\")\n",
    "        print(message_passing (user_input.capitalize()))"
   ]
  },
  {
   "cell_type": "code",
   "execution_count": 2,
   "metadata": {
    "scrolled": true
   },
   "outputs": [
    {
     "name": "stdout",
     "output_type": "stream",
     "text": [
      "Say Something:hello, how are you\n",
      "['Hello, how are you']\n",
      "Say Something:i am good now\n",
      "['Hello, how are you', 'I am good now']\n",
      "Say Something:\\end\n"
     ]
    }
   ],
   "source": [
    "def message_passing(statement):\n",
    "    while True:\n",
    "        if statement == \"\\end\":\n",
    "            break  \n",
    "        else:\n",
    "            return statement\n",
    "results = []        \n",
    "while True:\n",
    "    user_input = input(\"Say Something:\")\n",
    "    if user_input == \"\\end\":\n",
    "            break\n",
    "    else:\n",
    "        value = message_passing (user_input.capitalize())\n",
    "        results.append(message_passing(value))\n",
    "        print(results)"
   ]
  },
  {
   "cell_type": "code",
   "execution_count": 2,
   "metadata": {},
   "outputs": [
    {
     "name": "stdout",
     "output_type": "stream",
     "text": [
      "Say Something:how are you\n",
      "Post Comma and Question Statement:\n",
      "['How are you??']\n",
      "Say Something:good\n",
      "Post Comma and Question Statement:\n",
      "['How are you??', 'Good..']\n",
      "Say Something:why are you doing\n",
      "Post Comma and Question Statement:\n",
      "['How are you??', 'Good..', 'Why are you doing??']\n",
      "Say Something:i am working now\n",
      "Post Comma and Question Statement:\n",
      "['How are you??', 'Good..', 'Why are you doing??', 'I am working now..']\n",
      "Say Something:where are you going\n",
      "Post Comma and Question Statement:\n",
      "['How are you??', 'Good..', 'Why are you doing??', 'I am working now..', 'Where are you going??']\n",
      "Say Something:\\end\n"
     ]
    }
   ],
   "source": [
    "def message_passing(statement):\n",
    "            introgatives = (\"How\", \"Why\",\"Where\")\n",
    "            if statement.startswith(introgatives):\n",
    "                return \"{}?\".format(statement)\n",
    "            else:\n",
    "                return \"{}.\".format(statement)\n",
    "        \n",
    "results = []        \n",
    "while True:\n",
    "    user_input = input(\"Say Something:\")\n",
    "    if user_input == \"\\end\":\n",
    "            break\n",
    "    else:\n",
    "        value = message_passing (user_input.capitalize())\n",
    "        results.append(message_passing(value))\n",
    "        print(\"Post Comma and Question Statement:\")\n",
    "        print(results)"
   ]
  },
  {
   "cell_type": "code",
   "execution_count": 1,
   "metadata": {},
   "outputs": [
    {
     "name": "stdout",
     "output_type": "stream",
     "text": [
      "Help on method_descriptor:\n",
      "\n",
      "startswith(...)\n",
      "    S.startswith(prefix[, start[, end]]) -> bool\n",
      "    \n",
      "    Return True if S starts with the specified prefix, False otherwise.\n",
      "    With optional start, test S beginning at that position.\n",
      "    With optional end, stop comparing S at that position.\n",
      "    prefix can also be a tuple of strings to try.\n",
      "\n"
     ]
    }
   ],
   "source": [
    "help(str.startswith)"
   ]
  },
  {
   "cell_type": "code",
   "execution_count": 1,
   "metadata": {},
   "outputs": [
    {
     "name": "stdout",
     "output_type": "stream",
     "text": [
      "Say Something:how are you\n",
      "Post Comma and Question Statement:\n",
      "How are you??\n",
      "Say Something:GOO\n",
      "Post Comma and Question Statement:\n",
      "How are you?? Goo..\n",
      "Say Something:i am very fine\n",
      "Post Comma and Question Statement:\n",
      "How are you?? Goo.. I am very fine..\n",
      "Say Something:please call me\n",
      "Post Comma and Question Statement:\n",
      "How are you?? Goo.. I am very fine.. Please call me..\n",
      "Say Something:what do you call me\n",
      "Post Comma and Question Statement:\n",
      "How are you?? Goo.. I am very fine.. Please call me.. What do you call me..\n",
      "Say Something:call me dorpon\n",
      "Post Comma and Question Statement:\n",
      "How are you?? Goo.. I am very fine.. Please call me.. What do you call me.. Call me dorpon..\n",
      "Say Something:\\end\n"
     ]
    }
   ],
   "source": [
    "def message_passing(statement):\n",
    "            introgatives = (\"How\", \"Why\",\"Where\")\n",
    "            if statement.startswith(introgatives):\n",
    "                return \"{}?\".format(statement)\n",
    "            #if statement.startswith(introgatives):\n",
    "               # return \"introgatives\".format(\",\"\")\n",
    "            else:\n",
    "                return \"{}.\".format(statement)\n",
    "        \n",
    "results = []        \n",
    "while True:\n",
    "    user_input = input(\"Say Something:\")\n",
    "    if user_input == \"\\end\":\n",
    "            break\n",
    "    else:\n",
    "        value = message_passing (user_input.capitalize())\n",
    "        results.append(message_passing(value))\n",
    "        print(\"Post Comma and Question Statement:\")\n",
    "        print(\" \".join(results))"
   ]
  },
  {
   "cell_type": "code",
   "execution_count": 2,
   "metadata": {},
   "outputs": [
    {
     "name": "stdout",
     "output_type": "stream",
     "text": [
      "This is one two three four\n"
     ]
    }
   ],
   "source": [
    "print (\"This is {} {} {} {}\"\n",
    "       .format(\"one\", \"two\", \"three\", \"four\"))"
   ]
  },
  {
   "cell_type": "code",
   "execution_count": 4,
   "metadata": {},
   "outputs": [
    {
     "ename": "TypeError",
     "evalue": "slice indices must be integers or None or have an __index__ method",
     "output_type": "error",
     "traceback": [
      "\u001b[1;31m---------------------------------------------------------------------------\u001b[0m",
      "\u001b[1;31mTypeError\u001b[0m                                 Traceback (most recent call last)",
      "\u001b[1;32m<ipython-input-4-c26fc6845174>\u001b[0m in \u001b[0;36m<module>\u001b[1;34m\u001b[0m\n\u001b[1;32m----> 1\u001b[1;33m \u001b[1;32mif\u001b[0m \u001b[0mvalue\u001b[0m\u001b[1;33m.\u001b[0m\u001b[0mstartswith\u001b[0m\u001b[1;33m(\u001b[0m\u001b[1;34m\"How\"\u001b[0m\u001b[1;33m,\u001b[0m \u001b[1;34m\"Why\"\u001b[0m\u001b[1;33m,\u001b[0m\u001b[1;34m\"where\"\u001b[0m\u001b[1;33m)\u001b[0m\u001b[1;33m:\u001b[0m\u001b[1;33m\u001b[0m\u001b[1;33m\u001b[0m\u001b[0m\n\u001b[0m\u001b[0;32m      2\u001b[0m      \u001b[0mx\u001b[0m\u001b[1;33m=\u001b[0m \u001b[1;34m\"{}\"\u001b[0m\u001b[1;33m.\u001b[0m\u001b[0mformat\u001b[0m\u001b[1;33m(\u001b[0m\u001b[1;34m\".\"\u001b[0m\u001b[1;33m)\u001b[0m\u001b[1;33m\u001b[0m\u001b[1;33m\u001b[0m\u001b[0m\n",
      "\u001b[1;31mTypeError\u001b[0m: slice indices must be integers or None or have an __index__ method"
     ]
    }
   ],
   "source": [
    "if value.startswith(\"How\", \"Why\",\"where\"):\n",
    "     x= \"{}\".format(\".\")"
   ]
  },
  {
   "cell_type": "code",
   "execution_count": 6,
   "metadata": {},
   "outputs": [
    {
     "data": {
      "text/plain": [
       "['__add__',\n",
       " '__class__',\n",
       " '__contains__',\n",
       " '__delattr__',\n",
       " '__dir__',\n",
       " '__doc__',\n",
       " '__eq__',\n",
       " '__format__',\n",
       " '__ge__',\n",
       " '__getattribute__',\n",
       " '__getitem__',\n",
       " '__getnewargs__',\n",
       " '__gt__',\n",
       " '__hash__',\n",
       " '__init__',\n",
       " '__init_subclass__',\n",
       " '__iter__',\n",
       " '__le__',\n",
       " '__len__',\n",
       " '__lt__',\n",
       " '__mod__',\n",
       " '__mul__',\n",
       " '__ne__',\n",
       " '__new__',\n",
       " '__reduce__',\n",
       " '__reduce_ex__',\n",
       " '__repr__',\n",
       " '__rmod__',\n",
       " '__rmul__',\n",
       " '__setattr__',\n",
       " '__sizeof__',\n",
       " '__str__',\n",
       " '__subclasshook__',\n",
       " 'capitalize',\n",
       " 'casefold',\n",
       " 'center',\n",
       " 'count',\n",
       " 'encode',\n",
       " 'endswith',\n",
       " 'expandtabs',\n",
       " 'find',\n",
       " 'format',\n",
       " 'format_map',\n",
       " 'index',\n",
       " 'isalnum',\n",
       " 'isalpha',\n",
       " 'isascii',\n",
       " 'isdecimal',\n",
       " 'isdigit',\n",
       " 'isidentifier',\n",
       " 'islower',\n",
       " 'isnumeric',\n",
       " 'isprintable',\n",
       " 'isspace',\n",
       " 'istitle',\n",
       " 'isupper',\n",
       " 'join',\n",
       " 'ljust',\n",
       " 'lower',\n",
       " 'lstrip',\n",
       " 'maketrans',\n",
       " 'partition',\n",
       " 'replace',\n",
       " 'rfind',\n",
       " 'rindex',\n",
       " 'rjust',\n",
       " 'rpartition',\n",
       " 'rsplit',\n",
       " 'rstrip',\n",
       " 'split',\n",
       " 'splitlines',\n",
       " 'startswith',\n",
       " 'strip',\n",
       " 'swapcase',\n",
       " 'title',\n",
       " 'translate',\n",
       " 'upper',\n",
       " 'zfill']"
      ]
     },
     "execution_count": 6,
     "metadata": {},
     "output_type": "execute_result"
    }
   ],
   "source": [
    "dir(str)"
   ]
  },
  {
   "cell_type": "code",
   "execution_count": 10,
   "metadata": {},
   "outputs": [
    {
     "name": "stdout",
     "output_type": "stream",
     "text": [
      "9\n"
     ]
    }
   ],
   "source": [
    "introgatives = (\"How\", \"Why\",\"Where\")\n",
    "m=len(\"how are you?\") - \n",
    "print(m)"
   ]
  },
  {
   "cell_type": "code",
   "execution_count": null,
   "metadata": {},
   "outputs": [],
   "source": []
  }
 ],
 "metadata": {
  "kernelspec": {
   "display_name": "Python 3",
   "language": "python",
   "name": "python3"
  },
  "language_info": {
   "codemirror_mode": {
    "name": "ipython",
    "version": 3
   },
   "file_extension": ".py",
   "mimetype": "text/x-python",
   "name": "python",
   "nbconvert_exporter": "python",
   "pygments_lexer": "ipython3",
   "version": "3.8.3"
  }
 },
 "nbformat": 4,
 "nbformat_minor": 4
}
