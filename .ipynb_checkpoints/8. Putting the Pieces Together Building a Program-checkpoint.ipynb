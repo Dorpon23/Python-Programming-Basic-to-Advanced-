{
 "cells": [
  {
   "cell_type": "code",
   "execution_count": 10,
   "metadata": {},
   "outputs": [
    {
     "name": "stdout",
     "output_type": "stream",
     "text": [
      "say something: \\end\n"
     ]
    }
   ],
   "source": [
    "while True:\n",
    "    username = input(\"say something: \")\n",
    "    if username == \"\\end\":\n",
    "        break\n",
    "    else:\n",
    "        print(username)"
   ]
  },
  {
   "cell_type": "code",
   "execution_count": null,
   "metadata": {},
   "outputs": [],
   "source": [
    "i=0 \n",
    "type(i)"
   ]
  },
  {
   "cell_type": "code",
   "execution_count": 3,
   "metadata": {},
   "outputs": [],
   "source": [
    "def message_passing(statement):\n",
    "    while True:\n",
    "        if statement == \"\\end\":\n",
    "            break  \n",
    "        else:\n",
    "            return statement\n",
    "    while True:\n",
    "        user_input = input(\"Say Something:\")\n",
    "        print(message_passing (user_input.capitalize()))"
   ]
  },
  {
   "cell_type": "code",
   "execution_count": 4,
   "metadata": {
    "scrolled": true
   },
   "outputs": [
    {
     "name": "stdout",
     "output_type": "stream",
     "text": [
      "Say Something:hello how are you\n",
      "['Hello how are you']\n",
      "Say Something:good boy\n",
      "['Hello how are you', 'Good boy']\n",
      "Say Something:fida hasan dorpon\n",
      "['Hello how are you', 'Good boy', 'Fida hasan dorpon']\n",
      "Say Something:\\end\n"
     ]
    }
   ],
   "source": [
    "def message_passing(statement):\n",
    "    while True:\n",
    "        if statement == \"\\end\":\n",
    "            break  \n",
    "        else:\n",
    "            return statement\n",
    "results = []        \n",
    "while True:\n",
    "    user_input = input(\"Say Something:\")\n",
    "    if user_input == \"\\end\":\n",
    "            break\n",
    "    else:\n",
    "        value = message_passing (user_input.capitalize())\n",
    "        results.append(message_passing(value))\n",
    "        print(results)"
   ]
  },
  {
   "cell_type": "code",
   "execution_count": 2,
   "metadata": {},
   "outputs": [
    {
     "name": "stdout",
     "output_type": "stream",
     "text": [
      "Say Something:how are you\n",
      "Post Comma and Question Statement:\n",
      "['How are you??']\n",
      "Say Something:good boy\n",
      "Post Comma and Question Statement:\n",
      "['How are you??', 'Good boy..']\n",
      "Say Something:nice boy\n",
      "Post Comma and Question Statement:\n",
      "['How are you??', 'Good boy..', 'Nice boy..']\n",
      "Say Something:where are you\n",
      "Post Comma and Question Statement:\n",
      "['How are you??', 'Good boy..', 'Nice boy..', 'Where are you??']\n",
      "Say Something:why are you so nice\n",
      "Post Comma and Question Statement:\n",
      "['How are you??', 'Good boy..', 'Nice boy..', 'Where are you??', 'Why are you so nice??']\n",
      "Say Something:you are my darling\n",
      "Post Comma and Question Statement:\n",
      "['How are you??', 'Good boy..', 'Nice boy..', 'Where are you??', 'Why are you so nice??', 'You are my darling..']\n"
     ]
    },
    {
     "ename": "KeyboardInterrupt",
     "evalue": "Interrupted by user",
     "output_type": "error",
     "traceback": [
      "\u001b[1;31m---------------------------------------------------------------------------\u001b[0m",
      "\u001b[1;31mKeyboardInterrupt\u001b[0m                         Traceback (most recent call last)",
      "\u001b[1;32m<ipython-input-2-2978bfee2d92>\u001b[0m in \u001b[0;36m<module>\u001b[1;34m\u001b[0m\n\u001b[0;32m      8\u001b[0m \u001b[0mresults\u001b[0m \u001b[1;33m=\u001b[0m \u001b[1;33m[\u001b[0m\u001b[1;33m]\u001b[0m\u001b[1;33m\u001b[0m\u001b[1;33m\u001b[0m\u001b[0m\n\u001b[0;32m      9\u001b[0m \u001b[1;32mwhile\u001b[0m \u001b[1;32mTrue\u001b[0m\u001b[1;33m:\u001b[0m\u001b[1;33m\u001b[0m\u001b[1;33m\u001b[0m\u001b[0m\n\u001b[1;32m---> 10\u001b[1;33m     \u001b[0muser_input\u001b[0m \u001b[1;33m=\u001b[0m \u001b[0minput\u001b[0m\u001b[1;33m(\u001b[0m\u001b[1;34m\"Say Something:\"\u001b[0m\u001b[1;33m)\u001b[0m\u001b[1;33m\u001b[0m\u001b[1;33m\u001b[0m\u001b[0m\n\u001b[0m\u001b[0;32m     11\u001b[0m     \u001b[1;32mif\u001b[0m \u001b[0muser_input\u001b[0m \u001b[1;33m==\u001b[0m \u001b[1;34m\"\\end\"\u001b[0m\u001b[1;33m:\u001b[0m\u001b[1;33m\u001b[0m\u001b[1;33m\u001b[0m\u001b[0m\n\u001b[0;32m     12\u001b[0m             \u001b[1;32mbreak\u001b[0m\u001b[1;33m\u001b[0m\u001b[1;33m\u001b[0m\u001b[0m\n",
      "\u001b[1;32mC:\\ProgramData\\Anaconda3\\lib\\site-packages\\ipykernel\\kernelbase.py\u001b[0m in \u001b[0;36mraw_input\u001b[1;34m(self, prompt)\u001b[0m\n\u001b[0;32m    858\u001b[0m                 \u001b[1;34m\"raw_input was called, but this frontend does not support input requests.\"\u001b[0m\u001b[1;33m\u001b[0m\u001b[1;33m\u001b[0m\u001b[0m\n\u001b[0;32m    859\u001b[0m             )\n\u001b[1;32m--> 860\u001b[1;33m         return self._input_request(str(prompt),\n\u001b[0m\u001b[0;32m    861\u001b[0m             \u001b[0mself\u001b[0m\u001b[1;33m.\u001b[0m\u001b[0m_parent_ident\u001b[0m\u001b[1;33m,\u001b[0m\u001b[1;33m\u001b[0m\u001b[1;33m\u001b[0m\u001b[0m\n\u001b[0;32m    862\u001b[0m             \u001b[0mself\u001b[0m\u001b[1;33m.\u001b[0m\u001b[0m_parent_header\u001b[0m\u001b[1;33m,\u001b[0m\u001b[1;33m\u001b[0m\u001b[1;33m\u001b[0m\u001b[0m\n",
      "\u001b[1;32mC:\\ProgramData\\Anaconda3\\lib\\site-packages\\ipykernel\\kernelbase.py\u001b[0m in \u001b[0;36m_input_request\u001b[1;34m(self, prompt, ident, parent, password)\u001b[0m\n\u001b[0;32m    902\u001b[0m             \u001b[1;32mexcept\u001b[0m \u001b[0mKeyboardInterrupt\u001b[0m\u001b[1;33m:\u001b[0m\u001b[1;33m\u001b[0m\u001b[1;33m\u001b[0m\u001b[0m\n\u001b[0;32m    903\u001b[0m                 \u001b[1;31m# re-raise KeyboardInterrupt, to truncate traceback\u001b[0m\u001b[1;33m\u001b[0m\u001b[1;33m\u001b[0m\u001b[1;33m\u001b[0m\u001b[0m\n\u001b[1;32m--> 904\u001b[1;33m                 \u001b[1;32mraise\u001b[0m \u001b[0mKeyboardInterrupt\u001b[0m\u001b[1;33m(\u001b[0m\u001b[1;34m\"Interrupted by user\"\u001b[0m\u001b[1;33m)\u001b[0m \u001b[1;32mfrom\u001b[0m \u001b[1;32mNone\u001b[0m\u001b[1;33m\u001b[0m\u001b[1;33m\u001b[0m\u001b[0m\n\u001b[0m\u001b[0;32m    905\u001b[0m             \u001b[1;32mexcept\u001b[0m \u001b[0mException\u001b[0m \u001b[1;32mas\u001b[0m \u001b[0me\u001b[0m\u001b[1;33m:\u001b[0m\u001b[1;33m\u001b[0m\u001b[1;33m\u001b[0m\u001b[0m\n\u001b[0;32m    906\u001b[0m                 \u001b[0mself\u001b[0m\u001b[1;33m.\u001b[0m\u001b[0mlog\u001b[0m\u001b[1;33m.\u001b[0m\u001b[0mwarning\u001b[0m\u001b[1;33m(\u001b[0m\u001b[1;34m\"Invalid Message:\"\u001b[0m\u001b[1;33m,\u001b[0m \u001b[0mexc_info\u001b[0m\u001b[1;33m=\u001b[0m\u001b[1;32mTrue\u001b[0m\u001b[1;33m)\u001b[0m\u001b[1;33m\u001b[0m\u001b[1;33m\u001b[0m\u001b[0m\n",
      "\u001b[1;31mKeyboardInterrupt\u001b[0m: Interrupted by user"
     ]
    }
   ],
   "source": [
    "def message_passing(statement):\n",
    "            introgatives = (\"How\", \"Why\",\"Where\")\n",
    "            if statement.startswith(introgatives):\n",
    "                return \"{}?\".format(statement)\n",
    "            else:\n",
    "                return \"{}.\".format(statement)\n",
    "        \n",
    "results = []        \n",
    "while True:\n",
    "    user_input = input(\"Say Something:\")\n",
    "    if user_input == \"\\end\":\n",
    "            break\n",
    "    else:\n",
    "        value = message_passing (user_input.capitalize())\n",
    "        results.append(message_passing(value))\n",
    "        print(\"Post Comma and Question Statement:\")\n",
    "        print(results)"
   ]
  },
  {
   "cell_type": "code",
   "execution_count": 1,
   "metadata": {},
   "outputs": [
    {
     "name": "stdout",
     "output_type": "stream",
     "text": [
      "Help on method_descriptor:\n",
      "\n",
      "startswith(...)\n",
      "    S.startswith(prefix[, start[, end]]) -> bool\n",
      "    \n",
      "    Return True if S starts with the specified prefix, False otherwise.\n",
      "    With optional start, test S beginning at that position.\n",
      "    With optional end, stop comparing S at that position.\n",
      "    prefix can also be a tuple of strings to try.\n",
      "\n"
     ]
    }
   ],
   "source": [
    "help(str.startswith)"
   ]
  },
  {
   "cell_type": "code",
   "execution_count": null,
   "metadata": {},
   "outputs": [
    {
     "name": "stdout",
     "output_type": "stream",
     "text": [
      "Say Something:how are you\n",
      "Post Comma and Question Statement:\n",
      "How are you??\n",
      "Say Something:good boy\n",
      "Post Comma and Question Statement:\n",
      "How are you?? Good boy..\n"
     ]
    }
   ],
   "source": [
    "def message_passing(statement):\n",
    "            introgatives = (\"How\", \"Why\",\"Where\")\n",
    "            if statement.startswith(introgatives):\n",
    "                return \"{}?\".format(statement)\n",
    "            else:\n",
    "                return \"{}.\".format(statement)\n",
    "        \n",
    "results = []        \n",
    "while True:\n",
    "    user_input = input(\"Say Something:\")\n",
    "    if user_input == \"\\end\":\n",
    "            break\n",
    "    else:\n",
    "        value = message_passing (user_input.capitalize())\n",
    "        results.append(message_passing(value))\n",
    "        print(\"Post Comma and Question Statement:\")\n",
    "        print(\" \".join(results))"
   ]
  },
  {
   "cell_type": "code",
   "execution_count": 13,
   "metadata": {},
   "outputs": [
    {
     "name": "stdout",
     "output_type": "stream",
     "text": [
      "This is one two three four\n"
     ]
    }
   ],
   "source": [
    "print (\"This is {} {} {} {}\"\n",
    "       .format(\"one\", \"two\", \"three\", \"four\"))"
   ]
  },
  {
   "cell_type": "code",
   "execution_count": null,
   "metadata": {},
   "outputs": [],
   "source": [
    "if value.startswith(\"How\", \"Why\",\"where\"):\n",
    "     x= \"{}\".format(\".\")"
   ]
  }
 ],
 "metadata": {
  "kernelspec": {
   "display_name": "Python 3",
   "language": "python",
   "name": "python3"
  },
  "language_info": {
   "codemirror_mode": {
    "name": "ipython",
    "version": 3
   },
   "file_extension": ".py",
   "mimetype": "text/x-python",
   "name": "python",
   "nbconvert_exporter": "python",
   "pygments_lexer": "ipython3",
   "version": "3.8.3"
  }
 },
 "nbformat": 4,
 "nbformat_minor": 4
}
