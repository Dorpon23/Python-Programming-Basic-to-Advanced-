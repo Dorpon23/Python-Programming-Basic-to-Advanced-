{
 "cells": [
  {
   "cell_type": "code",
   "execution_count": 10,
   "metadata": {},
   "outputs": [
    {
     "name": "stdout",
     "output_type": "stream",
     "text": [
      "say something: \\end\n"
     ]
    }
   ],
   "source": [
    "while True:\n",
    "    username = input(\"say something: \")\n",
    "    if username == \"\\end\":\n",
    "        break\n",
    "    else:\n",
    "        print(username)"
   ]
  },
  {
   "cell_type": "code",
   "execution_count": null,
   "metadata": {},
   "outputs": [],
   "source": [
    "i=0 \n",
    "type(i)"
   ]
  },
  {
   "cell_type": "code",
   "execution_count": 3,
   "metadata": {},
   "outputs": [],
   "source": [
    "def message_passing(statement):\n",
    "    while True:\n",
    "        if statement == \"\\end\":\n",
    "            break  \n",
    "        else:\n",
    "            return statement\n",
    "    while True:\n",
    "        user_input = input(\"Say Something:\")\n",
    "        print(message_passing (user_input.capitalize()))"
   ]
  },
  {
   "cell_type": "code",
   "execution_count": null,
   "metadata": {
    "scrolled": true
   },
   "outputs": [],
   "source": [
    "def message_passing(statement):\n",
    "    while True:\n",
    "        if statement == \"\\end\":\n",
    "            break  \n",
    "        else:\n",
    "            return statement\n",
    "results = []        \n",
    "while True:\n",
    "    user_input = input(\"Say Something:\")\n",
    "    value = message_passing (user_input.capitalize())\n",
    "    results.append(message_passing(value))\n",
    "    print(results)"
   ]
  },
  {
   "cell_type": "code",
   "execution_count": 1,
   "metadata": {},
   "outputs": [],
   "source": [
    "def message_passing(statement):\n",
    "    while True:\n",
    "        if statement == \"\\end\":\n",
    "            break  \n",
    "        else:\n",
    "            return statement\n",
    "    while True:\n",
    "        user_input = input(\"Say Something:\")\n",
    "        print(message_passing (user_input.capitalize()))"
   ]
  },
  {
   "cell_type": "code",
   "execution_count": 8,
   "metadata": {},
   "outputs": [
    {
     "name": "stdout",
     "output_type": "stream",
     "text": [
      "Help on method_descriptor:\n",
      "\n",
      "startswith(...)\n",
      "    S.startswith(prefix[, start[, end]]) -> bool\n",
      "    \n",
      "    Return True if S starts with the specified prefix, False otherwise.\n",
      "    With optional start, test S beginning at that position.\n",
      "    With optional end, stop comparing S at that position.\n",
      "    prefix can also be a tuple of strings to try.\n",
      "\n"
     ]
    }
   ],
   "source": [
    "help(str.startswith)"
   ]
  },
  {
   "cell_type": "code",
   "execution_count": 14,
   "metadata": {},
   "outputs": [
    {
     "name": "stdout",
     "output_type": "stream",
     "text": [
      "This is my code .\n"
     ]
    }
   ],
   "source": [
    "print(\"This is my code {}\".format(\".\"))"
   ]
  },
  {
   "cell_type": "code",
   "execution_count": 13,
   "metadata": {},
   "outputs": [
    {
     "name": "stdout",
     "output_type": "stream",
     "text": [
      "This is one two three four\n"
     ]
    }
   ],
   "source": [
    "print (\"This is {} {} {} {}\"\n",
    "       .format(\"one\", \"two\", \"three\", \"four\"))"
   ]
  },
  {
   "cell_type": "code",
   "execution_count": null,
   "metadata": {},
   "outputs": [],
   "source": [
    "if value.startswith(\"How\", \"Why\",\"where\"):\n",
    "     x= \"{}\".format(\".\")"
   ]
  }
 ],
 "metadata": {
  "kernelspec": {
   "display_name": "Python 3",
   "language": "python",
   "name": "python3"
  },
  "language_info": {
   "codemirror_mode": {
    "name": "ipython",
    "version": 3
   },
   "file_extension": ".py",
   "mimetype": "text/x-python",
   "name": "python",
   "nbconvert_exporter": "python",
   "pygments_lexer": "ipython3",
   "version": "3.8.3"
  }
 },
 "nbformat": 4,
 "nbformat_minor": 4
}
