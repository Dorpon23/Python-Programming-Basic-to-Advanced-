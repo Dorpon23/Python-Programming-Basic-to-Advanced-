{
 "cells": [
  {
   "cell_type": "code",
   "execution_count": 5,
   "metadata": {},
   "outputs": [
    {
     "name": "stdout",
     "output_type": "stream",
     "text": [
      "[22.1]\n",
      "[22.1, 23.4]\n",
      "[22.1, 23.4, 34.0]\n",
      "[22.1, 23.4, 34.0, 23.0]\n"
     ]
    }
   ],
   "source": [
    "temps = [221, 234, 340, 230]\n",
    "new_temps = []\n",
    "for temp in temps:\n",
    "    new_temps.append(temp/10)\n",
    "    print(new_temps)"
   ]
  },
  {
   "cell_type": "code",
   "execution_count": 10,
   "metadata": {},
   "outputs": [
    {
     "name": "stdout",
     "output_type": "stream",
     "text": [
      "[22.1, 23.4, 34.0, 23.0]\n"
     ]
    }
   ],
   "source": [
    "temps = [221, 234, 340, 230]\n",
    "new_temps = [temp/10 for temp in temps]\n",
    "print(new_temps)"
   ]
  },
  {
   "cell_type": "code",
   "execution_count": 15,
   "metadata": {},
   "outputs": [
    {
     "name": "stdout",
     "output_type": "stream",
     "text": [
      "[22.1]\n",
      "[22.1, 23.4]\n",
      "[22.1, 23.4, 34.0]\n",
      "[22.1, 23.4, 34.0, -99.9]\n",
      "[22.1, 23.4, 34.0, -99.9, 23.0]\n"
     ]
    }
   ],
   "source": [
    "temps = [221, 234, 340, -999, 230]\n",
    "new_temps = []\n",
    "\n",
    "for temp in temps:\n",
    "    if(temps < 0):\n",
    "        new_temps.append(temp/10)\n",
    "        print(new_temps)"
   ]
  },
  {
   "cell_type": "code",
   "execution_count": 17,
   "metadata": {},
   "outputs": [
    {
     "name": "stdout",
     "output_type": "stream",
     "text": [
      "[22.1, 23.4, 34.0, -999.9, 23.0]\n"
     ]
    }
   ],
   "source": [
    "temps = [221, 234, 340, -9999, 230]\n",
    "new_temps = [temp/10 for temp in temps if temp/10 != -9999]\n",
    "print(new_temps)"
   ]
  },
  {
   "cell_type": "code",
   "execution_count": null,
   "metadata": {},
   "outputs": [],
   "source": []
  }
 ],
 "metadata": {
  "kernelspec": {
   "display_name": "Python 3",
   "language": "python",
   "name": "python3"
  },
  "language_info": {
   "codemirror_mode": {
    "name": "ipython",
    "version": 3
   },
   "file_extension": ".py",
   "mimetype": "text/x-python",
   "name": "python",
   "nbconvert_exporter": "python",
   "pygments_lexer": "ipython3",
   "version": "3.8.3"
  }
 },
 "nbformat": 4,
 "nbformat_minor": 4
}
